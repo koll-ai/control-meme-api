{
  "nbformat": 4,
  "nbformat_minor": 0,
  "metadata": {
    "colab": {
      "provenance": [],
      "include_colab_link": true
    },
    "kernelspec": {
      "name": "python3",
      "display_name": "Python 3"
    },
    "language_info": {
      "name": "python"
    },
    "accelerator": "GPU",
    "gpuClass": "standard"
  },
  "cells": [
    {
      "cell_type": "markdown",
      "metadata": {
        "id": "view-in-github",
        "colab_type": "text"
      },
      "source": [
        "<a href=\"https://colab.research.google.com/github/koll-ai/control-meme-api/blob/main/control_meme_api.ipynb\" target=\"_parent\"><img src=\"https://colab.research.google.com/assets/colab-badge.svg\" alt=\"Open In Colab\"/></a>"
      ]
    },
    {
      "cell_type": "code",
      "source": [
        "#@title # Install dependencies\n",
        "\n",
        "! pip install \"git+https://github.com/takuma104/diffusers.git@controlnet\" # Diffusers in development version\n",
        "! pip install transformers accelerate safetensors xformers opencv-python\n",
        "\n",
        "from diffusers import StableDiffusionControlNetPipeline, EulerAncestralDiscreteScheduler\n",
        "from diffusers.utils import load_image\n",
        "import torch\n",
        "import cv2\n",
        "import numpy as np\n",
        "from PIL import Image\n",
        "\n",
        "from flask import Flask\n",
        "from flask import request\n",
        "import base64\n",
        "from io import BytesIO\n",
        "\n",
        "import subprocess\n",
        "import time"
      ],
      "metadata": {
        "id": "lAVHoRw4_w89"
      },
      "execution_count": null,
      "outputs": []
    },
    {
      "cell_type": "code",
      "source": [
        "#@title # Load ControlNet pipeline\n",
        "\n",
        "model = \"takuma104/control_sd15_canny\" #@param {type:\"string\"}\n",
        "\n",
        "#Common\n",
        "euler_scheduler = EulerAncestralDiscreteScheduler.from_config(\"takuma104/control_sd15_canny\", subfolder=\"scheduler\")\n",
        "\n",
        "#Canny Edge model\n",
        "pipe_canny = StableDiffusionControlNetPipeline.from_pretrained(\"takuma104/control_sd15_canny\", torch_dtype=torch.float16).to(\"cuda\")\n",
        "pipe_canny.scheduler = euler_scheduler\n",
        "pipe_canny.enable_xformers_memory_efficient_attention()\n"
      ],
      "metadata": {
        "cellView": "form",
        "id": "65XSa7JYAPra"
      },
      "execution_count": null,
      "outputs": []
    },
    {
      "cell_type": "code",
      "source": [
        "#@title # Setup localtunnel\n",
        "with open('output.txt', 'w') as f:\n",
        "    proc = subprocess.Popen(['lt', '--port', '5000'], stdout=f)\n",
        "\n",
        "time.sleep(3)"
      ],
      "metadata": {
        "id": "sccybM7iE0oO"
      },
      "execution_count": null,
      "outputs": []
    },
    {
      "cell_type": "code",
      "source": [
        "#@title # Run the service\n",
        "\n",
        "app = Flask(__name__)\n",
        "\n",
        "@app.route('/', methods=['POST'])\n",
        "def index():\n",
        "    params = request.get_json()\n",
        "\n",
        "    generator = torch.Generator(device=\"gpu\").manual_seed(params[\"seed\"])\n",
        "\n",
        "    image = pipe_canny(prompt=params[\"prompt\"], \n",
        "                      negative_prompt=params[\"negative_prompt\"],\n",
        "                      controlnet_hint=params[\"controlnet_hint\"],\n",
        "                      num_inference_steps=params[\"num_inference_steps\"], \n",
        "                      generator=generator).images[0]\n",
        "    \n",
        "    buffered = BytesIO()\n",
        "    image.save(buffered, format=\"PNG\")\n",
        "    \n",
        "    return base64.b64encode(buffered.getvalue())\n",
        "\n",
        "if __name__ == '__main__':\n",
        "  with open('output.txt', 'r') as f:\n",
        "      contents = f.read()\n",
        "      API_URL = contents.split(' ')[-1]\n",
        "      protocol = API_URL.split(':')[0]\n",
        "      url = API_URL.split('/')[-1]\n",
        "\n",
        "      print(API_URL)\n",
        "\n",
        "      print('\\n'*2)\n",
        "      print(f'Everything is ready! Click on the this link to be redirected to koll.ai. Don\\'t close this tab!')\n",
        "      print(f'https://meme.koll.ai?protocol={protocol}&url={url}')\n",
        "\n",
        "  app.run()"
      ],
      "metadata": {
        "id": "FXx-YzhUEtNy"
      },
      "execution_count": null,
      "outputs": []
    }
  ]
}