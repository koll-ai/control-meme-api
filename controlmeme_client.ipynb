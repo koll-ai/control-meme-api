{
  "nbformat": 4,
  "nbformat_minor": 0,
  "metadata": {
    "colab": {
      "provenance": [],
      "include_colab_link": true
    },
    "kernelspec": {
      "name": "python3",
      "display_name": "Python 3"
    },
    "language_info": {
      "name": "python"
    },
    "accelerator": "GPU",
    "gpuClass": "standard"
  },
  "cells": [
    {
      "cell_type": "markdown",
      "metadata": {
        "id": "view-in-github",
        "colab_type": "text"
      },
      "source": [
        "<a href=\"https://colab.research.google.com/github/koll-ai/control-meme-api/blob/main/controlmeme_client.ipynb\" target=\"_parent\"><img src=\"https://colab.research.google.com/assets/colab-badge.svg\" alt=\"Open In Colab\"/></a>"
      ]
    },
    {
      "cell_type": "code",
      "source": [
        "#@title # Install dependencies\n",
        "\n",
        "!git clone https://github.com/lllyasviel/ControlNet.git\n",
        "!git clone https://github.com/koll-ai/control-meme-api.git\n",
        "\n",
        "import sys\n",
        "sys.path.insert(0, '/content/control-meme-api')\n",
        "\n",
        "!pip install --pre -U triton\n",
        "!pip install safetensors\n",
        "!pip install xformers\n",
        "!pip install -r /content/control-meme-api/requirements.txt\n",
        "!npm install -g localtunnel"
      ],
      "metadata": {
        "id": "YQ3rRRtanrBo"
      },
      "execution_count": null,
      "outputs": []
    },
    {
      "cell_type": "code",
      "source": [
        "import torch\n",
        "import cv2\n",
        "import numpy as np\n",
        "from PIL import Image\n",
        "\n",
        "from flask import Flask\n",
        "from flask import request\n",
        "import base64\n",
        "from io import BytesIO\n",
        "\n",
        "import subprocess\n",
        "import time\n",
        "from flask_cors import CORS\n",
        "\n",
        "import requests"
      ],
      "metadata": {
        "id": "26iinXD2kTCq"
      },
      "execution_count": 2,
      "outputs": []
    },
    {
      "cell_type": "markdown",
      "source": [
        "# Download model"
      ],
      "metadata": {
        "id": "PJWDOf5jrvS4"
      }
    },
    {
      "cell_type": "code",
      "source": [
        "model = \"control_sd15_canny.pth\" #@param [\"control_sd15_mlsd.pth\", \"control_sd15_hed.pth\", \"control_sd15_seg.pth\", \"control_sd15_depth.pth\", \"control_sd15_scribble.pth\", \"control_sd15_normal.pth\", \"control_sd15_openpose.pth\", \"control_sd15_canny.pth\"]\n",
        "\n",
        "!curl -Lo $model https://huggingface.co/lllyasviel/ControlNet/resolve/main/models/$model\n",
        "!mv $model /content/ControlNet/models/$model\n",
        "\n",
        "#detectors = ['body_pose_model.pth', 'dpt_hybrid-midas-501f0c75.pt', 'hand_pose_model.pth', 'mlsd_large_512_fp32.pth', 'mlsd_tiny_512_fp32.pth', 'network-bsds500.pth', 'upernet_global_small.pth']\n",
        "#for d in detectors:\n",
        "#  !curl -Lo $d   https://huggingface.co/lllyasviel/ControlNet/resolve/main/annotator/ckpts/$d\n",
        "#  !mv $d /content/ControlNet/annotator/ckpts/$d"
      ],
      "metadata": {
        "id": "ewjJrt49h5hE",
        "cellView": "form",
        "colab": {
          "base_uri": "https://localhost:8080/"
        },
        "outputId": "62f80a18-c9e7-46cb-c65f-2873e5cb2235"
      },
      "execution_count": 4,
      "outputs": [
        {
          "output_type": "stream",
          "name": "stdout",
          "text": [
            "  % Total    % Received % Xferd  Average Speed   Time    Time     Time  Current\n",
            "                                 Dload  Upload   Total   Spent    Left  Speed\n",
            "100  1141  100  1141    0     0   3989      0 --:--:-- --:--:-- --:--:--  3989\n",
            "100 5446M  100 5446M    0     0   180M      0  0:00:30  0:00:30 --:--:--  231M\n"
          ]
        }
      ]
    },
    {
      "cell_type": "markdown",
      "source": [
        "# Load model"
      ],
      "metadata": {
        "id": "OsBh-izDryNs"
      }
    },
    {
      "cell_type": "code",
      "source": [
        "%cd /content/ControlNet\n",
        "\n",
        "import controlmeme\n",
        "\n",
        "import importlib\n",
        "importlib.reload(controlmeme)\n",
        "\n",
        "controlmeme.load_model('./models/control_sd15_canny.pth')"
      ],
      "metadata": {
        "id": "o9DYg7oAFt-K"
      },
      "execution_count": null,
      "outputs": []
    },
    {
      "cell_type": "code",
      "source": [
        "import cv2 as cv\n",
        "\n",
        "def create_hint(image, hint_type):\n",
        "  init_image = image\n",
        "  \n",
        "  if hint_type == 'canny':\n",
        "    controlnet_hint = Image.fromarray(cv.Canny(np.array(init_image), 100,200))\n",
        "  \n",
        "  controlnet_hint.save('last_hint.jpeg')\n",
        "\n",
        "  return controlnet_hint.convert('RGB')\n",
        "\n",
        "def generate_controlnet(prompt, hint, num_inference_steps, seed=-1, negative_prompt=\"\", **kwargs):\n",
        "    \"\"\"\n",
        "    Generate a meme variation\n",
        "    POST params: prompt:str, negative_prompt:str, controlnet_hint_url:str, num_inference_steps:int, seed:int\n",
        "    \"\"\"\n",
        "    \n",
        "    hint = np.asarray(hint)\n",
        "\n",
        "    output = controlmeme.generate(hint, prompt, \"\", negative_prompt, 1, 512, num_inference_steps, False, 1, 9, seed, 0)\n",
        "\n",
        "    return Image.fromarray(output[0])"
      ],
      "metadata": {
        "id": "fVYftJmnql7t"
      },
      "execution_count": 6,
      "outputs": []
    },
    {
      "cell_type": "code",
      "source": [
        "with open('output.txt', 'w') as f:\n",
        "    proc = subprocess.Popen(['lt', '--port', '5000'], stdout=f)\n",
        "\n",
        "time.sleep(3)\n",
        "\n",
        "app = Flask(__name__)\n",
        "CORS(app)\n",
        "\n",
        "params = dict()\n",
        "\n",
        "API_URL = \"\"\n",
        "\n",
        "@app.route('/hello/')\n",
        "def hello():    \n",
        "    return \"hello\"\n",
        "\n",
        "@app.route('/', methods=['POST'])\n",
        "def index():\n",
        "    global params\n",
        "\n",
        "    params = request.get_json()\n",
        "\n",
        "    meme_url = params['controlnet_hint_url']\n",
        "    image = Image.open(requests.get(meme_url, stream=True).raw)\n",
        "    hint = create_hint(image, 'canny')\n",
        "\n",
        "    last_image = generate_controlnet(hint=hint, **params)\n",
        "\n",
        "    with open('./last_meme.jpeg', 'w') as f:\n",
        "      image.save(f, format=\"JPEG\")\n",
        "\n",
        "    buffered = BytesIO()\n",
        "    last_image.save(buffered, format=\"JPEG\")\n",
        "\n",
        "    return base64.b64encode(buffered.getvalue())\n",
        "\n",
        "\n",
        "@app.route('/save_last/')\n",
        "def save_last():\n",
        "    requests.post(f\"{API_URL}/api/meme/{params['uuid']}/variation/\",\n",
        "                  files=dict(\n",
        "                      file=open('./last.jpeg'),\n",
        "                      prompt=params[\"prompt\"],\n",
        "                      nb_steps=params[\"num_inference_steps\"]\n",
        "                      )\n",
        "                  )    \n",
        "    return \"ok\"\n",
        "\n",
        "if __name__ == '__main__':\n",
        "  with open('output.txt', 'r') as f:\n",
        "      contents = f.read()\n",
        "      API_URL = contents.split(' ')[-1]\n",
        "      protocol = API_URL.split(':')[0]\n",
        "      url = API_URL.split('/')[-1]\n",
        "\n",
        "      print(API_URL)\n",
        "\n",
        "      print('\\n'*2)\n",
        "      print(f'Everything is ready! Click on the this link to be redirected to koll.ai. Don\\'t close this tab!')\n",
        "      print(f'https://meme.koll.ai?protocol={protocol}&url={url}')\n",
        "\n",
        "  app.run()"
      ],
      "metadata": {
        "id": "_1Pj06M7u2Ft"
      },
      "execution_count": null,
      "outputs": []
    },
    {
      "cell_type": "code",
      "source": [
        "meme_url = \"https://storage.googleapis.com/control-meme-public/gigachad.jpg\"\n",
        "\n",
        "image = Image.open(requests.get(meme_url, stream=True).raw)\n",
        "image\n",
        "\n",
        "#get controlnet hint image\n",
        "hint = create_hint(image, 'canny')\n",
        "hint\n",
        "\n",
        "params = {\"prompt\": \"Gigachad Thanos\",\n",
        "          \"hint\": hint,\n",
        "          \"num_inference_steps\": 30,\n",
        "          \"seed\": -1\n",
        "        }\n",
        "\n",
        "b64 = generate_controlnet(**params)\n",
        "b64"
      ],
      "metadata": {
        "id": "UuKH3Mq9rCi1"
      },
      "execution_count": null,
      "outputs": []
    }
  ]
}
