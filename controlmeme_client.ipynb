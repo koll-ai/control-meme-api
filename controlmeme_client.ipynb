{
  "nbformat": 4,
  "nbformat_minor": 0,
  "metadata": {
    "colab": {
      "provenance": [],
      "authorship_tag": "ABX9TyNk1qTZRdTLljy/bLSip6Yd",
      "include_colab_link": true
    },
    "kernelspec": {
      "name": "python3",
      "display_name": "Python 3"
    },
    "language_info": {
      "name": "python"
    },
    "accelerator": "GPU",
    "gpuClass": "standard"
  },
  "cells": [
    {
      "cell_type": "markdown",
      "metadata": {
        "id": "view-in-github",
        "colab_type": "text"
      },
      "source": [
        "<a href=\"https://colab.research.google.com/github/koll-ai/control-meme-api/blob/main/controlmeme_client.ipynb\" target=\"_parent\"><img src=\"https://colab.research.google.com/assets/colab-badge.svg\" alt=\"Open In Colab\"/></a>"
      ]
    },
    {
      "cell_type": "code",
      "source": [
        "#@title # Install dependencies\n",
        "\n",
        "!pip install transformers accelerate safetensors xformers opencv-python\n",
        "!pip install --pre -U triton\n",
        "!pip install flask-cors\n",
        "!npm install -g localtunnel\n",
        "\n",
        "!git clone https://github.com/lllyasviel/ControlNet.git\n",
        "!git clone https://github.com/koll-ai/control-meme-api.git\n",
        "!mv control-meme-api/*.py ControlNet/\n",
        "\n",
        "import sys\n",
        "import subprocess\n",
        "import pkg_resources\n",
        "\n",
        "required = {'torch', 'gradio', 'albumentations', 'opencv-contrib-python', 'imageio', 'imageio-ffmpeg', 'pytorch-lightning', 'omegaconf', 'test-tube', 'streamlit', 'einops', 'transformers', 'webdataset', 'kornia', 'open_clip_torch', 'invisible-watermark', 'streamlit-drawable-canvas', 'torchmetrics', 'timm', 'addict', 'yapf', 'prettytable', 'safetensors', 'basicsr'}\n",
        "installed = {pkg.key for pkg in pkg_resources.working_set}\n",
        "missing = required - installed\n",
        "\n",
        "if missing:\n",
        "    python = sys.executable\n",
        "    subprocess.check_call([python, '-m', 'pip', 'install', *missing], stdout=subprocess.DEVNULL)"
      ],
      "metadata": {
        "id": "YQ3rRRtanrBo"
      },
      "execution_count": null,
      "outputs": []
    },
    {
      "cell_type": "code",
      "source": [
        "import torch\n",
        "import cv2\n",
        "import numpy as np\n",
        "from PIL import Image\n",
        "\n",
        "from flask import Flask\n",
        "from flask import request\n",
        "import base64\n",
        "from io import BytesIO\n",
        "\n",
        "import subprocess\n",
        "import time\n",
        "from flask_cors import CORS\n",
        "\n",
        "import requests"
      ],
      "metadata": {
        "id": "gnA_TkKJs962"
      },
      "execution_count": 18,
      "outputs": []
    },
    {
      "cell_type": "markdown",
      "source": [
        "# Download model"
      ],
      "metadata": {
        "id": "PJWDOf5jrvS4"
      }
    },
    {
      "cell_type": "code",
      "source": [
        "model = \"control_sd15_canny\" #@param [\"control_sd15_mlsd\", \"control_sd15_hed\", \"control_sd15_seg\", \"control_sd15_depth\", \"control_sd15_scribble\", \"control_sd15_normal\", \"control_sd15_openpose\", \"control_sd15_canny\"]\n",
        "\n",
        "!curl -Lo $m https://huggingface.co/lllyasviel/ControlNet/resolve/main/models/$model\n",
        "!mv $m /content/ControlNet/models/$model\n",
        "\n",
        "#detectors = ['body_pose_model.pth', 'dpt_hybrid-midas-501f0c75.pt', 'hand_pose_model.pth', 'mlsd_large_512_fp32.pth', 'mlsd_tiny_512_fp32.pth', 'network-bsds500.pth', 'upernet_global_small.pth']\n",
        "#for d in detectors:\n",
        "#  !curl -Lo $d   https://huggingface.co/lllyasviel/ControlNet/resolve/main/annotator/ckpts/$d\n",
        "#  !mv $d /content/ControlNet/annotator/ckpts/$d"
      ],
      "metadata": {
        "id": "ewjJrt49h5hE",
        "cellView": "form"
      },
      "execution_count": null,
      "outputs": []
    },
    {
      "cell_type": "markdown",
      "source": [
        "# Load model"
      ],
      "metadata": {
        "id": "OsBh-izDryNs"
      }
    },
    {
      "cell_type": "code",
      "source": [
        "%cd /content/ControlNet\n",
        "\n",
        "import controlmeme\n",
        "controlmeme.load_model('./models/control_sd15_canny.pth')"
      ],
      "metadata": {
        "id": "o9DYg7oAFt-K"
      },
      "execution_count": null,
      "outputs": []
    },
    {
      "cell_type": "code",
      "source": [
        "import cv2 as cv\n",
        "\n",
        "def create_hint(image, hint_type):\n",
        "  init_image = image\n",
        "  \n",
        "  if hint_type == 'canny':\n",
        "    controlnet_hint = Image.fromarray(cv.Canny(np.array(init_image), 100,200))\n",
        "  \n",
        "  controlnet_hint.save('last_hint.jpeg')\n",
        "\n",
        "  return controlnet_hint.convert('RGB')\n",
        "\n",
        "def generate_controlnet(prompt, hint, num_inference_steps, seed=-1, negative_prompt=\"\", **kwargs):\n",
        "    \"\"\"\n",
        "    Generate a meme variation\n",
        "    POST params: prompt:str, negative_prompt:str, controlnet_hint_url:str, num_inference_steps:int, seed:int\n",
        "    \"\"\"\n",
        "    \n",
        "    hint = np.asarray(hint)\n",
        "\n",
        "    output = controlmeme.generate(hint, prompt, \"\", negative_prompt, 1, 512, num_inference_steps, False, 1, 9, seed, 0)\n",
        "\n",
        "    return Image.fromarray(output[0])"
      ],
      "metadata": {
        "id": "fVYftJmnql7t"
      },
      "execution_count": 23,
      "outputs": []
    },
    {
      "cell_type": "code",
      "source": [],
      "metadata": {
        "id": "0VcvHLDBu2RO"
      },
      "execution_count": null,
      "outputs": []
    },
    {
      "cell_type": "code",
      "source": [
        "with open('output.txt', 'w') as f:\n",
        "    proc = subprocess.Popen(['lt', '--port', '5000'], stdout=f)\n",
        "\n",
        "time.sleep(3)\n",
        "\n",
        "app = Flask(__name__)\n",
        "CORS(app)\n",
        "\n",
        "params = dict()\n",
        "\n",
        "API_URL = \"\"\n",
        "\n",
        "@app.route('/hello/')\n",
        "def hello():    \n",
        "    return \"hello\"\n",
        "\n",
        "@app.route('/', methods=['POST'])\n",
        "def index():\n",
        "    global params\n",
        "\n",
        "    params = request.get_json()\n",
        "\n",
        "    meme_url = params['controlnet_hint_url']\n",
        "    image = Image.open(requests.get(meme_url, stream=True).raw)\n",
        "    hint = create_hint(image, 'canny')\n",
        "\n",
        "    last_image = generate_controlnet(hint=hint, **params)\n",
        "\n",
        "    with open('./last_meme.jpeg', 'w') as f:\n",
        "      image.save(f, format=\"JPEG\")\n",
        "\n",
        "    buffered = BytesIO()\n",
        "    last_image.save(buffered, format=\"JPEG\")\n",
        "\n",
        "    return base64.b64encode(buffered.getvalue())\n",
        "\n",
        "\n",
        "@app.route('/save_last/')\n",
        "def save_last():\n",
        "    requests.post(f\"{API_URL}/api/meme/{params['uuid']}/variation/\",\n",
        "                  files=dict(\n",
        "                      file=open('./last.jpeg'),\n",
        "                      prompt=params[\"prompt\"],\n",
        "                      nb_steps=params[\"num_inference_steps\"]\n",
        "                      )\n",
        "                  )    \n",
        "    return \"ok\"\n",
        "\n",
        "if __name__ == '__main__':\n",
        "  with open('output.txt', 'r') as f:\n",
        "      contents = f.read()\n",
        "      API_URL = contents.split(' ')[-1]\n",
        "      protocol = API_URL.split(':')[0]\n",
        "      url = API_URL.split('/')[-1]\n",
        "\n",
        "      print(API_URL)\n",
        "\n",
        "      print('\\n'*2)\n",
        "      print(f'Everything is ready! Click on the this link to be redirected to koll.ai. Don\\'t close this tab!')\n",
        "      print(f'https://meme.koll.ai?protocol={protocol}&url={url}')\n",
        "\n",
        "  app.run()"
      ],
      "metadata": {
        "colab": {
          "base_uri": "https://localhost:8080/"
        },
        "id": "_1Pj06M7u2Ft",
        "outputId": "4e6df645-0fc3-4eb5-df84-717706c42f4b"
      },
      "execution_count": 26,
      "outputs": [
        {
          "output_type": "stream",
          "name": "stdout",
          "text": [
            "https://thick-crabs-lie-34-91-160-60.loca.lt\n",
            "\n",
            "\n",
            "\n",
            "\n",
            "Everything is ready! Click on the this link to be redirected to koll.ai. Don't close this tab!\n",
            "https://meme.koll.ai?protocol=https&url=thick-crabs-lie-34-91-160-60.loca.lt\n",
            "\n",
            " * Serving Flask app \"__main__\" (lazy loading)\n",
            " * Environment: production\n",
            "\u001b[31m   WARNING: This is a development server. Do not use it in a production deployment.\u001b[0m\n",
            "\u001b[2m   Use a production WSGI server instead.\u001b[0m\n",
            " * Debug mode: off\n"
          ]
        },
        {
          "output_type": "stream",
          "name": "stderr",
          "text": [
            "INFO:werkzeug: * Running on http://127.0.0.1:5000/ (Press CTRL+C to quit)\n",
            "INFO:werkzeug:127.0.0.1 - - [26/Feb/2023 22:02:24] \"\u001b[37mOPTIONS / HTTP/1.1\u001b[0m\" 200 -\n",
            "INFO:lightning_fabric.utilities.seed:Global seed set to 45000\n"
          ]
        },
        {
          "output_type": "stream",
          "name": "stdout",
          "text": [
            "Data shape for DDIM sampling is (1, 4, 64, 64), eta 0\n",
            "Running DDIM Sampling with 10 timesteps\n"
          ]
        },
        {
          "output_type": "stream",
          "name": "stderr",
          "text": [
            "DDIM Sampler: 100%|██████████| 10/10 [00:07<00:00,  1.28it/s]\n",
            "INFO:werkzeug:127.0.0.1 - - [26/Feb/2023 22:02:35] \"\u001b[37mPOST / HTTP/1.1\u001b[0m\" 200 -\n"
          ]
        }
      ]
    },
    {
      "cell_type": "code",
      "source": [],
      "metadata": {
        "id": "q3lB01T5u1qR"
      },
      "execution_count": null,
      "outputs": []
    },
    {
      "cell_type": "code",
      "source": [
        "meme_url = \"https://storage.googleapis.com/control-meme-public/hidethepainharold.jpg\"\n",
        "\n",
        "image = Image.open(requests.get(meme_url, stream=True).raw)\n",
        "image\n",
        "\n",
        "# get controlnet hint image\n",
        "hint = create_hint(image, 'canny')\n",
        "hint\n",
        "\n",
        "params = {\"prompt\": \"Macron\",\n",
        "          \"hint\": hint,\n",
        "          \"num_inference_steps\": 50\n",
        "        }\n",
        "\n",
        "b64 = generate_controlnet(**params)\n",
        "b64"
      ],
      "metadata": {
        "id": "UuKH3Mq9rCi1"
      },
      "execution_count": null,
      "outputs": []
    }
  ]
}